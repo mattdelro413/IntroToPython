{
 "cells": [
  {
   "cell_type": "markdown",
   "metadata": {},
   "source": [
    "- Student ID: 170722\n",
    "- Surname: Del Rosario\n",
    "- Course: BS CTM"
   ]
  },
  {
   "cell_type": "code",
   "execution_count": 2,
   "metadata": {},
   "outputs": [],
   "source": [
    "def three_number_average(firstnumber,secondnumber,thirdnumber):\n",
    "    average = (firstnumber+secondnumber+thirdnumber) / 3\n",
    "    return average\n",
    "    "
   ]
  },
  {
   "cell_type": "code",
   "execution_count": 3,
   "metadata": {},
   "outputs": [
    {
     "name": "stdout",
     "output_type": "stream",
     "text": [
      "Enter first number: 2\n",
      "Enter second number: 4\n",
      "Enter third number: 6\n",
      "The average is 4.0\n"
     ]
    }
   ],
   "source": [
    "firstnumber = int(input('Enter first number: '))\n",
    "\n",
    "secondnumber = int(input('Enter second number: '))\n",
    "\n",
    "thirdnumber = int(input('Enter third number: '))\n",
    "\n",
    "average = three_number_average(firstnumber,secondnumber,thirdnumber)\n",
    "\n",
    "print('The average is',average)"
   ]
  },
  {
   "cell_type": "code",
   "execution_count": null,
   "metadata": {},
   "outputs": [],
   "source": []
  },
  {
   "cell_type": "code",
   "execution_count": null,
   "metadata": {},
   "outputs": [],
   "source": []
  }
 ],
 "metadata": {
  "kernelspec": {
   "display_name": "Python 3",
   "language": "python",
   "name": "python3"
  },
  "language_info": {
   "codemirror_mode": {
    "name": "ipython",
    "version": 3
   },
   "file_extension": ".py",
   "mimetype": "text/x-python",
   "name": "python",
   "nbconvert_exporter": "python",
   "pygments_lexer": "ipython3",
   "version": "3.8.5"
  }
 },
 "nbformat": 4,
 "nbformat_minor": 4
}
